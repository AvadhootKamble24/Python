{
 "cells": [
  {
   "cell_type": "markdown",
   "metadata": {},
   "source": [
    "# from youtube video od sharadha khapra "
   ]
  },
  {
   "cell_type": "code",
   "execution_count": 1,
   "metadata": {},
   "outputs": [
    {
     "name": "stdout",
     "output_type": "stream",
     "text": [
      "648\n"
     ]
    }
   ],
   "source": [
    "def cal_sum(num1,num2):\n",
    "    return num1+num2\n",
    "\n",
    "print(cal_sum(324,324))"
   ]
  },
  {
   "cell_type": "code",
   "execution_count": 2,
   "metadata": {},
   "outputs": [
    {
     "name": "stdout",
     "output_type": "stream",
     "text": [
      "Hello world\n"
     ]
    }
   ],
   "source": [
    "def print_helo():\n",
    "    print(\"Hello world\")\n",
    "print_helo()"
   ]
  },
  {
   "cell_type": "code",
   "execution_count": null,
   "metadata": {},
   "outputs": [
    {
     "name": "stdout",
     "output_type": "stream",
     "text": [
      "225.0\n",
      "225.0\n"
     ]
    }
   ],
   "source": [
    "#average if 3 numbers\n",
    "def avg(a,b,c):\n",
    "    avg=a+b+c/3\n",
    "    return avg\n",
    "\n",
    "print(avg(2,34,567))"
   ]
  },
  {
   "cell_type": "code",
   "execution_count": 11,
   "metadata": {},
   "outputs": [
    {
     "name": "stdout",
     "output_type": "stream",
     "text": [
      "4\n"
     ]
    }
   ],
   "source": [
    "#default value\n",
    "def product(a=1,b=1):\n",
    "    return a*b\n",
    "\n",
    "prod=product(4)\n",
    "print(prod)"
   ]
  },
  {
   "cell_type": "code",
   "execution_count": 13,
   "metadata": {},
   "outputs": [
    {
     "name": "stdout",
     "output_type": "stream",
     "text": [
      "7\n"
     ]
    },
    {
     "data": {
      "text/plain": [
       "7"
      ]
     },
     "execution_count": 13,
     "metadata": {},
     "output_type": "execute_result"
    }
   ],
   "source": [
    "# write a function to print length of list\n",
    "def len_list(lst):\n",
    "    print(len(lst))\n",
    "\n",
    "l=[2,4,5,67,'s','sdf','@']\n",
    "len_list(l)\n",
    "\n",
    "len(l)"
   ]
  },
  {
   "cell_type": "code",
   "execution_count": 14,
   "metadata": {},
   "outputs": [
    {
     "name": "stdout",
     "output_type": "stream",
     "text": [
      "2 4 5 67 s sdf @ "
     ]
    }
   ],
   "source": [
    "#write a function to print elements of a list in single line\n",
    "def ele_list(list):\n",
    "    for i in list:\n",
    "        print(i,end=\" \")\n",
    "\n",
    "ele_list(l)"
   ]
  },
  {
   "cell_type": "code",
   "execution_count": 22,
   "metadata": {},
   "outputs": [
    {
     "name": "stdout",
     "output_type": "stream",
     "text": [
      "6\n"
     ]
    }
   ],
   "source": [
    "#waf to find a factorial of a number n\n",
    "def factorial(n):\n",
    "    fac=1\n",
    "    for num in range(1,n+1):\n",
    "        fac *= num\n",
    "    print(fac)\n",
    "factorial(3)"
   ]
  },
  {
   "cell_type": "code",
   "execution_count": 23,
   "metadata": {},
   "outputs": [
    {
     "name": "stdout",
     "output_type": "stream",
     "text": [
      "2551.5\n"
     ]
    }
   ],
   "source": [
    "# waf to convert usd to inr\n",
    "def usd_to_inr(num):\n",
    "    inr=num*85.05\n",
    "    return inr\n",
    "\n",
    "usd=30\n",
    "print(usd_to_inr(usd))"
   ]
  },
  {
   "cell_type": "code",
   "execution_count": null,
   "metadata": {},
   "outputs": [],
   "source": [
    "\n"
   ]
  }
 ],
 "metadata": {
  "kernelspec": {
   "display_name": "base",
   "language": "python",
   "name": "python3"
  },
  "language_info": {
   "codemirror_mode": {
    "name": "ipython",
    "version": 3
   },
   "file_extension": ".py",
   "mimetype": "text/x-python",
   "name": "python",
   "nbconvert_exporter": "python",
   "pygments_lexer": "ipython3",
   "version": "3.12.4"
  }
 },
 "nbformat": 4,
 "nbformat_minor": 2
}
